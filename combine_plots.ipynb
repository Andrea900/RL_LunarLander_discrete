{
 "cells": [
  {
   "cell_type": "code",
   "execution_count": null,
   "metadata": {},
   "outputs": [],
   "source": [
    "import numpy as np\n",
    "import matplotlib.pyplot as plt\n",
    "\n",
    "m_rewards_DQN = np.load('m_rewards_DQN.npz')\n",
    "m_rewards_DDQN = np.load('m_rewards_DDQN.npz')\n"
   ]
  },
  {
   "cell_type": "code",
   "execution_count": null,
   "metadata": {},
   "outputs": [],
   "source": [
    "plt.plot(m_rewards_DQN['arr_0'], label='DQN', linewidth= '2')\n",
    "plt.plot(m_rewards_DDQN['arr_0'], label='Double DQN', color = 'r', linewidth='2')\n",
    "#plt.title('DQN_DoubleDQN_merge')\n",
    "plt.xlabel('Episodes')\n",
    "plt.ylabel('Mean rewards')\n",
    "plt.legend(loc = 4)\n",
    "plt.grid()\n",
    "plt.savefig('DQN_DDQN_graph.png')\n",
    "plt.show()"
   ]
  },
  {
   "cell_type": "code",
   "execution_count": null,
   "metadata": {},
   "outputs": [],
   "source": []
  }
 ],
 "metadata": {
  "kernelspec": {
   "display_name": "Python 3",
   "language": "python",
   "name": "python3"
  },
  "language_info": {
   "codemirror_mode": {
    "name": "ipython",
    "version": 3
   },
   "file_extension": ".py",
   "mimetype": "text/x-python",
   "name": "python",
   "nbconvert_exporter": "python",
   "pygments_lexer": "ipython3",
   "version": "3.6.9"
  }
 },
 "nbformat": 4,
 "nbformat_minor": 2
}
